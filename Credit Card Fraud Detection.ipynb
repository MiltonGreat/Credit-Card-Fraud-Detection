{
 "cells": [
  {
   "cell_type": "markdown",
   "id": "b3dfcb47-fa45-4a6c-b6eb-73e36acd2e49",
   "metadata": {},
   "source": [
    "# Analysis of Your Fraud Detection Code\n",
    "\n",
    "This project implements three unsupervised/semi-supervised machine learning models to detect fraudulent credit card transactions:\n",
    "\n",
    "1. Autoencoder Approach\n",
    "2. Isolation Forest\n",
    "3. One-Class SVM\n",
    "\n",
    "The goal is to identify anomalies in transaction data while balancing fraud detection (recall) and false alarms (precision)."
   ]
  },
  {
   "cell_type": "code",
   "execution_count": 1,
   "id": "b6f7f1a1-3bf3-40b9-a370-fc5040fbcc9e",
   "metadata": {},
   "outputs": [],
   "source": [
    "import numpy as np\n",
    "import pandas as pd\n",
    "import matplotlib.pyplot as plt\n",
    "import seaborn as sns\n",
    "from sklearn.ensemble import IsolationForest\n",
    "from sklearn.svm import OneClassSVM\n",
    "from sklearn.preprocessing import StandardScaler\n",
    "from sklearn.metrics import classification_report, confusion_matrix, roc_auc_score\n",
    "from tensorflow.keras.models import Model\n",
    "from tensorflow.keras.layers import Input, Dense\n",
    "from tensorflow.keras.optimizers import Adam\n",
    "from tensorflow.keras.callbacks import EarlyStopping"
   ]
  },
  {
   "cell_type": "markdown",
   "id": "1575f040-788f-4a5a-8a97-915409e81681",
   "metadata": {},
   "source": [
    "## Loading and Preparing Data"
   ]
  },
  {
   "cell_type": "code",
   "execution_count": 2,
   "id": "f2c5f1a0-c987-4677-ab15-8ae139ed5586",
   "metadata": {},
   "outputs": [],
   "source": [
    "# Load and prepare data\n",
    "df = pd.read_csv('creditcard.csv')\n",
    "\n",
    "# Check if 'Class' column exists\n",
    "if \"Class\" not in df.columns:\n",
    "    raise KeyError(\"Column 'Class' is missing from the dataset. Check column names!\")\n",
    "\n",
    "# Separate features and labels\n",
    "X = df.drop(columns=[\"Class\"])\n",
    "y = df[\"Class\"].values\n",
    "\n",
    "# Normalize numerical features\n",
    "scaler = StandardScaler()\n",
    "X_scaled = scaler.fit_transform(X)\n",
    "\n",
    "# Split into normal and all data\n",
    "normal_idx = np.where(y == 0)[0]\n",
    "X_normal = X_scaled[normal_idx]"
   ]
  },
  {
   "cell_type": "markdown",
   "id": "b24b3709-793f-4681-b409-a4f17fa86ef3",
   "metadata": {},
   "source": [
    "## 1. Autoencoder Approach\n",
    "\n",
    "Builds an autoencoder (neural network) to reconstruct input data.\n",
    "\n",
    "The autoencoder is a neural network that learns to reconstruct its input data. The key idea is:\n",
    "\n",
    "- You train it only on normal transactions (Class = 0)\n",
    "- The network learns to compress and reconstruct normal patterns well\n",
    "- When given a fraudulent transaction, it will have higher reconstruction error because it hasn't learned those patterns"
   ]
  },
  {
   "cell_type": "code",
   "execution_count": 4,
   "id": "ef0705b6-3f8a-4358-a0dd-bd498e69fa94",
   "metadata": {},
   "outputs": [
    {
     "name": "stdout",
     "output_type": "stream",
     "text": [
      "\n",
      "Training Autoencoder...\n",
      "Epoch 1/50\n",
      "\u001b[1m7108/7108\u001b[0m \u001b[32m━━━━━━━━━━━━━━━━━━━━\u001b[0m\u001b[37m\u001b[0m \u001b[1m7s\u001b[0m 932us/step - loss: 0.8885 - val_loss: 0.7998\n",
      "Epoch 2/50\n",
      "\u001b[1m7108/7108\u001b[0m \u001b[32m━━━━━━━━━━━━━━━━━━━━\u001b[0m\u001b[37m\u001b[0m \u001b[1m6s\u001b[0m 895us/step - loss: 0.7768 - val_loss: 0.7830\n",
      "Epoch 3/50\n",
      "\u001b[1m7108/7108\u001b[0m \u001b[32m━━━━━━━━━━━━━━━━━━━━\u001b[0m\u001b[37m\u001b[0m \u001b[1m6s\u001b[0m 842us/step - loss: 0.7549 - val_loss: 0.7787\n",
      "Epoch 4/50\n",
      "\u001b[1m7108/7108\u001b[0m \u001b[32m━━━━━━━━━━━━━━━━━━━━\u001b[0m\u001b[37m\u001b[0m \u001b[1m6s\u001b[0m 881us/step - loss: 0.7622 - val_loss: 0.7762\n",
      "Epoch 5/50\n",
      "\u001b[1m7108/7108\u001b[0m \u001b[32m━━━━━━━━━━━━━━━━━━━━\u001b[0m\u001b[37m\u001b[0m \u001b[1m6s\u001b[0m 883us/step - loss: 0.7613 - val_loss: 0.7710\n",
      "Epoch 6/50\n",
      "\u001b[1m7108/7108\u001b[0m \u001b[32m━━━━━━━━━━━━━━━━━━━━\u001b[0m\u001b[37m\u001b[0m \u001b[1m6s\u001b[0m 897us/step - loss: 0.7675 - val_loss: 0.7705\n",
      "Epoch 7/50\n",
      "\u001b[1m7108/7108\u001b[0m \u001b[32m━━━━━━━━━━━━━━━━━━━━\u001b[0m\u001b[37m\u001b[0m \u001b[1m6s\u001b[0m 873us/step - loss: 0.7542 - val_loss: 0.7717\n",
      "Epoch 8/50\n",
      "\u001b[1m7108/7108\u001b[0m \u001b[32m━━━━━━━━━━━━━━━━━━━━\u001b[0m\u001b[37m\u001b[0m \u001b[1m7s\u001b[0m 927us/step - loss: 0.7662 - val_loss: 0.7697\n",
      "Epoch 9/50\n",
      "\u001b[1m7108/7108\u001b[0m \u001b[32m━━━━━━━━━━━━━━━━━━━━\u001b[0m\u001b[37m\u001b[0m \u001b[1m6s\u001b[0m 858us/step - loss: 0.7566 - val_loss: 0.7697\n",
      "Epoch 10/50\n",
      "\u001b[1m7108/7108\u001b[0m \u001b[32m━━━━━━━━━━━━━━━━━━━━\u001b[0m\u001b[37m\u001b[0m \u001b[1m6s\u001b[0m 837us/step - loss: 0.7684 - val_loss: 0.7683\n",
      "Epoch 11/50\n",
      "\u001b[1m7108/7108\u001b[0m \u001b[32m━━━━━━━━━━━━━━━━━━━━\u001b[0m\u001b[37m\u001b[0m \u001b[1m6s\u001b[0m 841us/step - loss: 0.7504 - val_loss: 0.7706\n",
      "Epoch 12/50\n",
      "\u001b[1m7108/7108\u001b[0m \u001b[32m━━━━━━━━━━━━━━━━━━━━\u001b[0m\u001b[37m\u001b[0m \u001b[1m6s\u001b[0m 832us/step - loss: 0.7499 - val_loss: 0.7681\n",
      "Epoch 13/50\n",
      "\u001b[1m7108/7108\u001b[0m \u001b[32m━━━━━━━━━━━━━━━━━━━━\u001b[0m\u001b[37m\u001b[0m \u001b[1m6s\u001b[0m 832us/step - loss: 0.7579 - val_loss: 0.7683\n",
      "Epoch 14/50\n",
      "\u001b[1m7108/7108\u001b[0m \u001b[32m━━━━━━━━━━━━━━━━━━━━\u001b[0m\u001b[37m\u001b[0m \u001b[1m6s\u001b[0m 834us/step - loss: 0.7534 - val_loss: 0.7686\n",
      "Epoch 15/50\n",
      "\u001b[1m7108/7108\u001b[0m \u001b[32m━━━━━━━━━━━━━━━━━━━━\u001b[0m\u001b[37m\u001b[0m \u001b[1m6s\u001b[0m 828us/step - loss: 0.7576 - val_loss: 0.7690\n",
      "Epoch 16/50\n",
      "\u001b[1m7108/7108\u001b[0m \u001b[32m━━━━━━━━━━━━━━━━━━━━\u001b[0m\u001b[37m\u001b[0m \u001b[1m6s\u001b[0m 846us/step - loss: 0.7549 - val_loss: 0.7686\n",
      "Epoch 17/50\n",
      "\u001b[1m7108/7108\u001b[0m \u001b[32m━━━━━━━━━━━━━━━━━━━━\u001b[0m\u001b[37m\u001b[0m \u001b[1m6s\u001b[0m 837us/step - loss: 0.7492 - val_loss: 0.7677\n",
      "Epoch 18/50\n",
      "\u001b[1m7108/7108\u001b[0m \u001b[32m━━━━━━━━━━━━━━━━━━━━\u001b[0m\u001b[37m\u001b[0m \u001b[1m6s\u001b[0m 833us/step - loss: 0.7635 - val_loss: 0.7678\n",
      "Epoch 19/50\n",
      "\u001b[1m7108/7108\u001b[0m \u001b[32m━━━━━━━━━━━━━━━━━━━━\u001b[0m\u001b[37m\u001b[0m \u001b[1m6s\u001b[0m 841us/step - loss: 0.7637 - val_loss: 0.7679\n",
      "Epoch 20/50\n",
      "\u001b[1m7108/7108\u001b[0m \u001b[32m━━━━━━━━━━━━━━━━━━━━\u001b[0m\u001b[37m\u001b[0m \u001b[1m6s\u001b[0m 845us/step - loss: 0.7443 - val_loss: 0.7689\n",
      "Epoch 21/50\n",
      "\u001b[1m7108/7108\u001b[0m \u001b[32m━━━━━━━━━━━━━━━━━━━━\u001b[0m\u001b[37m\u001b[0m \u001b[1m6s\u001b[0m 843us/step - loss: 0.7592 - val_loss: 0.7693\n",
      "Epoch 22/50\n",
      "\u001b[1m7108/7108\u001b[0m \u001b[32m━━━━━━━━━━━━━━━━━━━━\u001b[0m\u001b[37m\u001b[0m \u001b[1m6s\u001b[0m 845us/step - loss: 0.7721 - val_loss: 0.7682\n"
     ]
    },
    {
     "data": {
      "image/png": "[encoded data removed]",
      "text/plain": [
       "<Figure size 640x480 with 1 Axes>"
      ]
     },
     "metadata": {},
     "output_type": "display_data"
    },
    {
     "name": "stdout",
     "output_type": "stream",
     "text": [
      "\u001b[1m8901/8901\u001b[0m \u001b[32m━━━━━━━━━━━━━━━━━━━━\u001b[0m\u001b[37m\u001b[0m \u001b[1m3s\u001b[0m 350us/step\n",
      "\n",
      "Autoencoder Results:\n",
      "              precision    recall  f1-score   support\n",
      "\n",
      "           0       1.00      0.97      0.99    284315\n",
      "           1       0.05      0.84      0.10       492\n",
      "\n",
      "    accuracy                           0.97    284807\n",
      "   macro avg       0.53      0.91      0.54    284807\n",
      "weighted avg       1.00      0.97      0.99    284807\n",
      "\n",
      "Confusion Matrix:\n",
      "[[277012   7303]\n",
      " [    80    412]]\n",
      "ROC AUC Score: 0.9059\n"
     ]
    }
   ],
   "source": [
    "print(\"\\nTraining Autoencoder...\")\n",
    "\n",
    "# Build autoencoder\n",
    "input_dim = X_scaled.shape[1]\n",
    "encoding_dim = 8\n",
    "\n",
    "input_layer = Input(shape=(input_dim,))\n",
    "encoded = Dense(encoding_dim, activation=\"relu\")(input_layer)\n",
    "decoded = Dense(input_dim, activation=\"sigmoid\")(encoded)\n",
    "autoencoder = Model(input_layer, decoded)\n",
    "autoencoder.compile(optimizer=Adam(learning_rate=0.001), loss=\"mse\")\n",
    "\n",
    "# Train with early stopping\n",
    "early_stopping = EarlyStopping(monitor='val_loss', patience=5, restore_best_weights=True)\n",
    "history = autoencoder.fit(\n",
    "    X_normal, X_normal,\n",
    "    epochs=50,\n",
    "    batch_size=32,\n",
    "    shuffle=True,\n",
    "    validation_split=0.2,\n",
    "    callbacks=[early_stopping],\n",
    "    verbose=1\n",
    ")\n",
    "\n",
    "# Plot training history\n",
    "plt.plot(history.history['loss'], label='Training Loss')\n",
    "plt.plot(history.history['val_loss'], label='Validation Loss')\n",
    "plt.title('Autoencoder Training History')\n",
    "plt.ylabel('Loss')\n",
    "plt.xlabel('Epoch')\n",
    "plt.legend()\n",
    "plt.show()\n",
    "\n",
    "# Compute reconstruction errors\n",
    "reconstructions = autoencoder.predict(X_scaled)\n",
    "reconstruction_errors = np.mean(np.abs(reconstructions - X_scaled), axis=1)\n",
    "\n",
    "# Optimize threshold\n",
    "from sklearn.metrics import roc_curve\n",
    "fpr, tpr, thresholds = roc_curve(y, reconstruction_errors)\n",
    "optimal_idx = np.argmax(tpr - fpr)\n",
    "optimal_threshold = thresholds[optimal_idx]\n",
    "autoencoder_predictions = (reconstruction_errors > optimal_threshold).astype(int)\n",
    "\n",
    "# Evaluate\n",
    "print(\"\\nAutoencoder Results:\")\n",
    "print(classification_report(y, autoencoder_predictions))\n",
    "print(\"Confusion Matrix:\")\n",
    "print(confusion_matrix(y, autoencoder_predictions))\n",
    "print(f\"ROC AUC Score: {roc_auc_score(y, autoencoder_predictions):.4f}\")"
   ]
  },
  {
   "cell_type": "markdown",
   "id": "656c1a0a-0e36-4c93-9fe9-e384054e34db",
   "metadata": {},
   "source": [
    "## 2. Isolation Forest\n",
    "\n",
    "This is a tree-based anomaly detection algorithm that:\n",
    "\n",
    "- Works by randomly selecting features and splitting values\n",
    "- Anomalies are easier to isolate (require fewer splits) than normal points\n",
    "- I set contamination=0.02, expecting about 2% anomalies"
   ]
  },
  {
   "cell_type": "code",
   "execution_count": 6,
   "id": "8ca257a0-6f55-41a9-9632-cbcc51d5e274",
   "metadata": {},
   "outputs": [
    {
     "name": "stdout",
     "output_type": "stream",
     "text": [
      "\n",
      "Training Isolation Forest...\n",
      "\n",
      "Isolation Forest Results:\n",
      "              precision    recall  f1-score   support\n",
      "\n",
      "           0       1.00      1.00      1.00    284315\n",
      "           1       0.26      0.26      0.26       492\n",
      "\n",
      "    accuracy                           1.00    284807\n",
      "   macro avg       0.63      0.63      0.63    284807\n",
      "weighted avg       1.00      1.00      1.00    284807\n",
      "\n",
      "Confusion Matrix:\n",
      "[[283949    366]\n",
      " [   366    126]]\n",
      "ROC AUC Score: 0.6274\n"
     ]
    }
   ],
   "source": [
    "print(\"\\nTraining Isolation Forest...\")\n",
    "\n",
    "# Set contamination based on actual fraud rate\n",
    "fraud_rate = np.mean(y)\n",
    "iso_forest = IsolationForest(contamination=fraud_rate, random_state=42)\n",
    "iso_forest_scores = -iso_forest.fit_predict(X_scaled)  # Negative because sklearn returns -1 for anomalies\n",
    "\n",
    "# Convert to binary predictions\n",
    "iso_forest_predictions = (iso_forest_scores > np.percentile(iso_forest_scores, 100*(1-fraud_rate))).astype(int)\n",
    "\n",
    "# Evaluate\n",
    "print(\"\\nIsolation Forest Results:\")\n",
    "print(classification_report(y, iso_forest_predictions))\n",
    "print(\"Confusion Matrix:\")\n",
    "print(confusion_matrix(y, iso_forest_predictions))\n",
    "print(f\"ROC AUC Score: {roc_auc_score(y, iso_forest_predictions):.4f}\")"
   ]
  },
  {
   "cell_type": "markdown",
   "id": "08bf189b-e6c3-454d-b63c-7860b220f952",
   "metadata": {},
   "source": [
    "## 3. One-Class SVM\n",
    "\n",
    "This is a support vector machine that:\n",
    "\n",
    "- Learns a boundary around normal data\n",
    "- Treats points outside this boundary as anomalies\n",
    "- I train it only on normal data (good practice)"
   ]
  },
  {
   "cell_type": "code",
   "execution_count": 8,
   "id": "0108905a-fcb9-421c-92b8-bcafe3ddaaa1",
   "metadata": {},
   "outputs": [
    {
     "name": "stdout",
     "output_type": "stream",
     "text": [
      "\n",
      "Training One-Class SVM...\n",
      "\n",
      "One-Class SVM Results:\n",
      "              precision    recall  f1-score   support\n",
      "\n",
      "           0       1.00      1.00      1.00    284315\n",
      "           1       0.79      0.79      0.79       492\n",
      "\n",
      "    accuracy                           1.00    284807\n",
      "   macro avg       0.90      0.90      0.90    284807\n",
      "weighted avg       1.00      1.00      1.00    284807\n",
      "\n",
      "Confusion Matrix:\n",
      "[[284212    103]\n",
      " [   103    389]]\n",
      "ROC AUC Score: 0.8951\n"
     ]
    }
   ],
   "source": [
    "print(\"\\nTraining One-Class SVM...\")\n",
    "\n",
    "# Set nu parameter based on expected outliers\n",
    "oc_svm = OneClassSVM(nu=fraud_rate, kernel=\"rbf\", gamma=\"auto\")\n",
    "oc_svm.fit(X_normal)  # Train only on normal data\n",
    "\n",
    "# Get decision scores\n",
    "oc_svm_scores = -oc_svm.decision_function(X_scaled)  # Negative for consistency\n",
    "\n",
    "# Convert to binary predictions\n",
    "oc_svm_predictions = (oc_svm_scores > np.percentile(oc_svm_scores, 100*(1-fraud_rate))).astype(int)\n",
    "\n",
    "# Evaluate\n",
    "print(\"\\nOne-Class SVM Results:\")\n",
    "print(classification_report(y, oc_svm_predictions))\n",
    "print(\"Confusion Matrix:\")\n",
    "print(confusion_matrix(y, oc_svm_predictions))\n",
    "print(f\"ROC AUC Score: {roc_auc_score(y, oc_svm_predictions):.4f}\")"
   ]
  },
  {
   "cell_type": "markdown",
   "id": "357f9c74-435e-4c5f-bdb8-6ea0ce0137ff",
   "metadata": {},
   "source": [
    "## 4. Ensemble Approach\n",
    "\n",
    "Combines scores from all three methods (standardized) for more robust predictions."
   ]
  },
  {
   "cell_type": "code",
   "execution_count": 10,
   "id": "fae22057-c6c4-4a61-a7ad-728fa2213cd3",
   "metadata": {},
   "outputs": [
    {
     "name": "stdout",
     "output_type": "stream",
     "text": [
      "\n",
      "Creating Ensemble Model...\n"
     ]
    }
   ],
   "source": [
    "print(\"\\nCreating Ensemble Model...\")\n",
    "\n",
    "# Combine scores from all methods (standardized)\n",
    "combined_scores = (\n",
    "    StandardScaler().fit_transform(reconstruction_errors.reshape(-1, 1)).flatten() +\n",
    "    StandardScaler().fit_transform(iso_forest_scores.reshape(-1, 1)).flatten() +\n",
    "    StandardScaler().fit_transform(oc_svm_scores.reshape(-1, 1)).flatten()\n",
    ")\n",
    "\n",
    "# Find optimal threshold for combined scores\n",
    "fpr, tpr, thresholds = roc_curve(y, combined_scores)\n",
    "optimal_idx = np.argmax(tpr - fpr)\n",
    "optimal_threshold = thresholds[optimal_idx]\n",
    "ensemble_predictions = (combined_scores > optimal_threshold).astype(int)"
   ]
  },
  {
   "cell_type": "code",
   "execution_count": 11,
   "id": "39e39b63-109a-4911-b7c9-e50e46333f23",
   "metadata": {},
   "outputs": [
    {
     "name": "stdout",
     "output_type": "stream",
     "text": [
      "\n",
      "Ensemble Model Results:\n",
      "              precision    recall  f1-score   support\n",
      "\n",
      "           0       1.00      0.98      0.99    284315\n",
      "           1       0.06      0.84      0.12       492\n",
      "\n",
      "    accuracy                           0.98    284807\n",
      "   macro avg       0.53      0.91      0.55    284807\n",
      "weighted avg       1.00      0.98      0.99    284807\n",
      "\n",
      "Confusion Matrix:\n",
      "[[278175   6140]\n",
      " [    79    413]]\n",
      "ROC AUC Score: 0.9089\n"
     ]
    }
   ],
   "source": [
    "# Evaluate\n",
    "print(\"\\nEnsemble Model Results:\")\n",
    "print(classification_report(y, ensemble_predictions))\n",
    "print(\"Confusion Matrix:\")\n",
    "print(confusion_matrix(y, ensemble_predictions))\n",
    "print(f\"ROC AUC Score: {roc_auc_score(y, ensemble_predictions):.4f}\")"
   ]
  },
  {
   "cell_type": "code",
   "execution_count": 12,
   "id": "5de8d032-eead-4fae-94b0-6c94747a8dfe",
   "metadata": {},
   "outputs": [],
   "source": [
    "# Plot all results comparison\n",
    "results = pd.DataFrame({\n",
    "    'Autoencoder': autoencoder_predictions,\n",
    "    'Isolation Forest': iso_forest_predictions,\n",
    "    'One-Class SVM': oc_svm_predictions,\n",
    "    'Ensemble': ensemble_predictions,\n",
    "    'Actual': y\n",
    "})"
   ]
  },
  {
   "cell_type": "code",
   "execution_count": 13,
   "id": "e1dfe91c-01c4-4d2a-aaae-7c4ed029b81f",
   "metadata": {},
   "outputs": [
    {
     "name": "stdout",
     "output_type": "stream",
     "text": [
      "\n",
      "Comparison of All Methods:\n",
      "             Method  Precision    Recall        F1   ROC AUC\n",
      "0       Autoencoder   0.053402  0.837398  0.100402  0.905856\n",
      "1  Isolation Forest   0.256098  0.256098  0.256098  0.627405\n",
      "2     One-Class SVM   0.790650  0.790650  0.790650  0.895144\n",
      "3          Ensemble   0.063025  0.839431  0.117246  0.908918\n"
     ]
    }
   ],
   "source": [
    "# Calculate precision and recall for each method\n",
    "metrics = []\n",
    "for method in ['Autoencoder', 'Isolation Forest', 'One-Class SVM', 'Ensemble']:\n",
    "    report = classification_report(y, results[method], output_dict=True)\n",
    "    metrics.append({\n",
    "        'Method': method,\n",
    "        'Precision': report['1']['precision'],\n",
    "        'Recall': report['1']['recall'],\n",
    "        'F1': report['1']['f1-score'],\n",
    "        'ROC AUC': roc_auc_score(y, results[method])\n",
    "    })\n",
    "\n",
    "metrics_df = pd.DataFrame(metrics)\n",
    "print(\"\\nComparison of All Methods:\")\n",
    "print(metrics_df)"
   ]
  },
  {
   "cell_type": "code",
   "execution_count": 14,
   "id": "b7111acb-ff3e-457c-86a4-470ba9a5a412",
   "metadata": {},
   "outputs": [
    {
     "data": {
      "image/png": "[encoded data removed]",
      "text/plain": [
       "<Figure size 1000x600 with 1 Axes>"
      ]
     },
     "metadata": {},
     "output_type": "display_data"
    }
   ],
   "source": [
    "# Plot metrics comparison\n",
    "metrics_df.plot(x='Method', y=['Precision', 'Recall', 'F1'], kind='bar', figsize=(10, 6))\n",
    "plt.title('Performance Metrics Comparison')\n",
    "plt.ylabel('Score')\n",
    "plt.xticks(rotation=45)\n",
    "plt.tight_layout()\n",
    "plt.show()"
   ]
  },
  {
   "cell_type": "markdown",
   "id": "a220ec66-309a-463f-a66d-d6c99b85fa1d",
   "metadata": {},
   "source": [
    "## Conclusion\n",
    "\n",
    "This project explored three unsupervised/semi-supervised machine learning techniques—Autoencoder, Isolation Forest, and One-Class SVM—along with an ensemble method, to detect fraudulent credit card transactions. \n",
    "\n",
    "Fraud detection is inherently a trade-off between catching fraud (recall) and avoiding false alarms (precision). The choice of model depends on business priorities:\n",
    "\n",
    "- Banks/Payment Processors: Might prefer the One-Class SVM for its balance.\n",
    "- High-Security Contexts: Could prioritize the Ensemble for its higher recall.\n",
    "\n",
    "This project demonstrates the value of testing multiple approaches and combining their strengths. With further tuning, these models can be integrated into real-time monitoring systems to mitigate financial risks effectively.\n",
    "\n",
    "### Key Results\n",
    "\n",
    "#### Autoencoder\n",
    "- Strengths: Highest fraud recall (84%)—captures the most fraudulent transactions.\n",
    "- Weaknesses: Low precision (5%)—generates many false alarms.\n",
    "- Use Case: Ideal when missing fraud is costlier than investigating false alerts (e.g., high-value transactions).\n",
    "\n",
    "#### Isolation Forest\n",
    "- Strengths: Low false positives (high precision for normal transactions).\n",
    "- Weaknesses: Poor fraud recall (26%)—misses most fraud cases.\n",
    "- Use Case: Less suitable for this dataset; better for datasets with clearer feature-based anomalies.\n",
    "\n",
    "#### One-Class SVM\n",
    "- Strengths: Best balance (79% precision/recall)—minimal false alarms while catching most fraud.\n",
    "- Weaknesses: Slightly lower recall than the autoencoder.\n",
    "- Use Case: General-purpose fraud detection where both precision and recall matter.\n",
    "\n",
    "#### Ensemble Model\n",
    "- Strengths: Best overall anomaly detection (highest ROC AUC: 0.909) and high recall (84%).\n",
    "- Weaknesses: Low precision (6%) like the autoencoder.\n",
    "- Use Case: Combines strengths of all methods; best for ranking transactions by risk.\n",
    "\n",
    "## Recommendations\n",
    "\n",
    "1. For Most Scenarios: One-Class SVM is the best standalone model, offering a balance between catching fraud (79% recall) and minimizing false alarms (79% precision).\n",
    "\n",
    "2. For High-Risk Tolerance: Use the Autoencoder or Ensemble to maximize fraud detection (84% recall), but pair with a secondary review process to handle false positives."
   ]
  },
  {
   "cell_type": "code",
   "execution_count": null,
   "id": "61050ab8-a19f-41a3-81aa-45bcf2c3ef85",
   "metadata": {},
   "outputs": [],
   "source": []
  }
 ],
 "metadata": {
  "kernelspec": {
   "display_name": "Python 3 (ipykernel)",
   "language": "python",
   "name": "python3"
  },
  "language_info": {
   "codemirror_mode": {
    "name": "ipython",
    "version": 3
   },
   "file_extension": ".py",
   "mimetype": "text/x-python",
   "name": "python",
   "nbconvert_exporter": "python",
   "pygments_lexer": "ipython3",
   "version": "3.12.3"
  }
 },
 "nbformat": 4,
 "nbformat_minor": 5
}
